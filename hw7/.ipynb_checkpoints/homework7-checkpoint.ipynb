{
 "cells": [
  {
   "cell_type": "markdown",
   "metadata": {},
   "source": [
    "Before you turn this problem in, make sure everything runs as expected. First, **restart the kernel** (in the menubar, select Kernel$\\rightarrow$Restart) and then **run all cells** (in the menubar, select Cell$\\rightarrow$Run All).\n",
    "\n",
    "Make sure you fill in any place that says `YOUR CODE HERE` or \"YOUR ANSWER HERE\", as well as your name and collaborators below:"
   ]
  },
  {
   "cell_type": "markdown",
   "metadata": {},
   "source": [
    "NAME = \"Chakrya Ros\"\n",
    "COLLABORATORS = \"\""
   ]
  },
  {
   "cell_type": "markdown",
   "metadata": {},
   "source": [
    "---"
   ]
  },
  {
   "cell_type": "code",
   "execution_count": 1,
   "metadata": {
    "deletable": false,
    "editable": false,
    "nbgrader": {
     "checksum": "cd60b967eb06cffde58380d55083e430",
     "grade": false,
     "grade_id": "cell-e97b3d3d475615a0",
     "locked": true,
     "schema_version": 1,
     "solution": false
    }
   },
   "outputs": [
    {
     "name": "stdout",
     "output_type": "stream",
     "text": [
      "Compiling /Users/chakryaros/Dropbox/CSCI3155_PPL/hw7_/hw7stdlib.sc"
     ]
    },
    {
     "data": {
      "text/plain": [
       "\u001b[32mimport \u001b[39m\u001b[36m$file.$        \n",
       "\u001b[39m\n",
       "\u001b[32mimport \u001b[39m\u001b[36mhw7stdlib._\n",
       "\u001b[39m"
      ]
     },
     "execution_count": 1,
     "metadata": {},
     "output_type": "execute_result"
    }
   ],
   "source": [
    "import $file.hw7stdlib\n",
    "import hw7stdlib._\n"
   ]
  },
  {
   "cell_type": "markdown",
   "metadata": {
    "deletable": false,
    "editable": false,
    "nbgrader": {
     "checksum": "70e580fa35edb4ba5ff7b7a1c7e97141",
     "grade": false,
     "grade_id": "cell-215074391f6561c7",
     "locked": true,
     "schema_version": 1,
     "solution": false
    }
   },
   "source": [
    "# Homework 7\n",
    "\n",
    "In this assignment we will implement functions and recursive let bindings to support recursive functions. We will also lay the groundwork for Typechecking, which we will finish in Homework 8"
   ]
  },
  {
   "cell_type": "markdown",
   "metadata": {
    "deletable": false,
    "editable": false,
    "nbgrader": {
     "checksum": "7229683db5cb6a97ecd3b1df5d5d1f15",
     "grade": false,
     "grade_id": "cell-baca7a8a63dc931f",
     "locked": true,
     "schema_version": 1,
     "solution": false
    }
   },
   "source": [
    "## Additional Syntax (10 pts)\n",
    "\n",
    "Add the syntax as case classes necessary to implement functions. Below is the grammar to get you started along with the syntax we have defined so far:\n",
    "\n",
    "$$\\begin{array}{rcll}\n",
    "\\mathbf{Expr} & ::=\\ & ... \\\\\n",
    " & | & FunDef(\\textbf{String}, \\textbf{Expr}) \\\\ \n",
    " & | & FunCall(\\textbf{Expr}, \\textbf{Expr}) \\\\\n",
    " & | & LetRec(\\textbf{String}, \\textbf{String}, \\textbf{Expr}, \\textbf{Expr}) \\\\\n",
    "\\end{array}$$\n"
   ]
  },
  {
   "cell_type": "code",
   "execution_count": null,
   "metadata": {
    "deletable": false,
    "nbgrader": {
     "checksum": "8aa64a211370e9d54faf475886aeae55",
     "grade": false,
     "grade_id": "expr_cases",
     "locked": false,
     "schema_version": 1,
     "solution": true
    }
   },
   "outputs": [],
   "source": [
    "sealed trait Expr\n",
    "case class Const(x : Integer) extends Expr\n",
    "case class Bin(x : Bool) extends Expr\n",
    "case class Ident(x : String) extends Expr\n",
    "case class Plus(x : Expr, y : Expr) extends Expr\n",
    "case class Minus(x : Expr, y : Expr) extends Expr\n",
    "case class Mult(x : Expr, y : Expr) extends Expr\n",
    "case class Pow(x : Expr, y : Expr) extends Expr\n",
    "case class Neg(x : Expr) extends Expr\n",
    "case class Eq(x : Expr, y : Expr) extends Expr\n",
    "case class And(x : Expr, y : Expr) extends Expr\n",
    "case class Or(x : Expr, y : Expr) extends Expr\n",
    "case class IfThenElse(p : Expr, t : Expr, f : Expr) extends Expr\n",
    "case class Let(id : String, x : Expr, y : Expr) extends Expr\n",
    "case class FunDef(id : String, x : Expr) extends Expr\n",
    "case class FunCall(x : Expr, y: Expr) extends E"
   ]
  },
  {
   "cell_type": "code",
   "execution_count": null,
   "metadata": {
    "deletable": false,
    "editable": false,
    "nbgrader": {
     "checksum": "d582d8967648e0c035508d08378602e4",
     "grade": true,
     "grade_id": "expr_cases-test",
     "locked": true,
     "points": 10,
     "schema_version": 1,
     "solution": false
    }
   },
   "outputs": [],
   "source": [
    "//This cell should compile if your additional cases were defined correctly\n",
    "val test1:Expr = FunDef(\"x\", Plus(Ident(\"x\"), Const(Positive(one))))\n",
    "val test2:Expr = FunCall(test1, Const(Positive(five)))\n",
    "val test3:Expr = LetRec(\"x\", \"y\", test1, test2)"
   ]
  },
  {
   "cell_type": "markdown",
   "metadata": {
    "deletable": false,
    "editable": false,
    "nbgrader": {
     "checksum": "30e79fbe3da3bf9ad015e9169834f2d0",
     "grade": false,
     "grade_id": "cell-f6923e1df0698f24",
     "locked": true,
     "schema_version": 1,
     "solution": false
    }
   },
   "source": [
    "## New definition of environment\n",
    "\n",
    "Below is the definition of environment we will need in order to implement recursive functions.\n",
    "\n",
    "This differs from using dictionaries in that:\n",
    "\n",
    "1. it is non-polymorphic\n",
    "2. The extend-rec constructor will be used to create closures for a let-rec binding. Where f is the key/name of the function and then x, e, and sigma represent the elements in the closure. We implement this functionality in the lookup function for environments\n",
    "\n",
    "$\\textbf{When you implement the interpreter for LetRec below you will want to use ExtendRec to extend the environment}$"
   ]
  },
  {
   "cell_type": "markdown",
   "metadata": {
    "deletable": false,
    "editable": false,
    "nbgrader": {
     "checksum": "eb225f4cffafd1fd12513413ca0aac5b",
     "grade": false,
     "grade_id": "cell-3772fc2f5b5043bb",
     "locked": true,
     "schema_version": 1,
     "solution": false
    }
   },
   "source": [
    "## Closures (5 pts)\n",
    "\n",
    "Extend the defininition of $\\mathbf{Value}$ to support closures.  Make sure to use the `Environment` type defined here (rather than a `Dictionary[String, Value]`) so that we can implement recursion in the next problem. "
   ]
  },
  {
   "cell_type": "code",
   "execution_count": null,
   "metadata": {
    "deletable": false,
    "nbgrader": {
     "checksum": "c29ec95d7940cc0b20a4b02b5d82bce1",
     "grade": false,
     "grade_id": "closure",
     "locked": false,
     "schema_version": 1,
     "solution": true
    }
   },
   "outputs": [],
   "source": [
    "sealed trait Environment\n",
    "case object EmptyEnv extends Environment \n",
    "case class Extend(k : String, v : Value, env : Environment) extends Environment\n",
    "case class ExtendRec(f: String, x: String, e: Expr, sigma: Environment ) extends Environment\n",
    "\n",
    "sealed trait Value\n",
    "case class NumVal(x : Integer) extends Value\n",
    "case class BinVal(x : Bool) extends Value\n",
    "case object Error extends Value\n",
    "??? // YOUR CODE HERE"
   ]
  },
  {
   "cell_type": "code",
   "execution_count": null,
   "metadata": {
    "deletable": false,
    "editable": false,
    "nbgrader": {
     "checksum": "5b28d59ced69582da6832f5d3c9b30f8",
     "grade": true,
     "grade_id": "closure-test",
     "locked": true,
     "points": 5,
     "schema_version": 1,
     "solution": false
    }
   },
   "outputs": [],
   "source": [
    "//This cell should compile if your additional case was defined correctly\n",
    "val test : Value = Closure(\"x\",\n",
    "                         Const(Positive(one)),\n",
    "                         Extend(\"y\", BinVal(True), EmptyEnv))"
   ]
  },
  {
   "cell_type": "code",
   "execution_count": null,
   "metadata": {
    "deletable": false,
    "editable": false,
    "nbgrader": {
     "checksum": "bfe5fc0dd13a0b8c5965c8ca5f3ec313",
     "grade": false,
     "grade_id": "cell-404537508b0e729b",
     "locked": true,
     "schema_version": 1,
     "solution": false
    }
   },
   "outputs": [],
   "source": [
    "def lookupEnv(sigma: Environment, x: String): Maybe[Value] = sigma match {\n",
    "    case EmptyEnv => Nothing\n",
    "    case Extend(y, v, pi) => string_eq(y,x) match {\n",
    "        case True => Just(v)\n",
    "        case False => lookupEnv(pi, x)\n",
    "    } \n",
    "    case ExtendRec(f, y, e, pi) => string_eq(x,f) match {\n",
    "        case True => Just(Closure(y, e, sigma))\n",
    "        case False => lookupEnv(pi, x)\n",
    "    } \n",
    "}   "
   ]
  },
  {
   "cell_type": "markdown",
   "metadata": {},
   "source": [
    "## Updating the interpreter (20 pts)\n",
    "\n",
    "Add new cases to the interpreter to handle the new expressions we have added to the language. Once this is done you should be able to support both recursive and non-recursive functions. We have given you the skeleton to get started."
   ]
  },
  {
   "cell_type": "code",
   "execution_count": null,
   "metadata": {
    "deletable": false,
    "nbgrader": {
     "checksum": "4b32e9f2fe771792e65d77eacc58c3c4",
     "grade": false,
     "grade_id": "interpreter",
     "locked": false,
     "schema_version": 1,
     "solution": true
    }
   },
   "outputs": [],
   "source": [
    "def eval(env : Environment, expr : Expr) : Value = expr match {\n",
    "    case Const(n)  => NumVal(n)\n",
    "    case Bin(p)    => BinVal(p)\n",
    "    case Ident(id) => lookupEnv(env, id) match {\n",
    "        case Just(v) => v\n",
    "        case Nothing => Error\n",
    "    }\n",
    "    case Plus(e1, e2) => eval_bin_arith(plus, env, e1, e2)\n",
    "    case Minus(e1, e2) => eval_bin_arith(minus, env, e1, e2)\n",
    "    case Mult(e1, e2) => eval_bin_arith(mult, env, e1, e2)\n",
    "    case Pow(e1, e2)  => (eval(env, e1), eval(env,e2)) match {\n",
    "        case (NumVal(x), NumVal(Positive(n))) => NumVal(pow(x, n))\n",
    "        case _ => Error\n",
    "    }\n",
    "    case Neg(e) => eval(env, e) match {\n",
    "        case NumVal(x) => NumVal(negate(x))\n",
    "        case BinVal(p) => BinVal(not(p))\n",
    "        case Error     => Error\n",
    "    }\n",
    "    case Eq(e1, e2) => (eval(env, e1), eval(env, e2)) match {\n",
    "        case (NumVal(x), NumVal(y)) => BinVal(int_eq(x,y))\n",
    "        case (BinVal(p), BinVal(q)) => BinVal(bool_eq(p,q))\n",
    "        case _                      => Error\n",
    "    }\n",
    "    case And(e1, e2) => eval_bin_bool(and, env, e1, e2)\n",
    "    case Or(e1, e2) => eval_bin_bool(or, env, e1, e2)\n",
    "    case IfThenElse(p, e_t, e_f) => eval(env, p) match{\n",
    "        case BinVal(True)  => eval(env, e_t)\n",
    "        case BinVal(False) => eval(env, e_f)\n",
    "        case _             => Error\n",
    "    }\n",
    "    case Let(id, df, body) => eval(env, df) match{\n",
    "        case Error => Error\n",
    "        case x     => {\n",
    "            val new_env = Extend(id, x, env)\n",
    "            eval(new_env , body)\n",
    "        }\n",
    "    }\n",
    "    // FunDef, FunCall, and LetRec cases go here\n",
    "    ??? // YOUR CODE HERE\n",
    "}\n",
    "\n",
    "def eval_bin_arith( op : (Integer, Integer) => Integer\n",
    "                  , env : Environment\n",
    "                  , e1 : Expr\n",
    "                  , e2 : Expr) : Value \n",
    "    = (eval(env, e1), eval(env, e2)) match{\n",
    "        case (NumVal(x), NumVal(y)) => NumVal(op(x,y))\n",
    "        case _ => Error\n",
    "    }\n",
    "\n",
    "def eval_bin_bool( op : (Bool, Bool) => Bool\n",
    "                 , env : Environment\n",
    "                 , e1 : Expr\n",
    "                 , e2 : Expr) : Value \n",
    "    = (eval(env, e1), eval(env, e2)) match{\n",
    "        case (BinVal(x), BinVal(y)) => BinVal(op(x,y))\n",
    "        case _ => Error\n",
    "    }"
   ]
  },
  {
   "cell_type": "code",
   "execution_count": null,
   "metadata": {
    "deletable": false,
    "editable": false,
    "nbgrader": {
     "checksum": "8448cd54d23683d3a6566c97bc9fbc76",
     "grade": true,
     "grade_id": "interpreter-tests",
     "locked": true,
     "points": 20,
     "schema_version": 1,
     "solution": false
    }
   },
   "outputs": [],
   "source": [
    "//Autograder tests for interpreter\n",
    "\n",
    "//shorthand implicits\n",
    "implicit def string_to_ident : String => Expr = Ident.apply\n",
    "implicit def nat_to_const : Nat => Expr = {n => Const(Positive(n))}\n",
    "implicit def nat_to_val : Nat => Value = {n => NumVal(Positive(n))}\n",
    "\n",
    "// \\x.x+x\n",
    "val f:Expr = FunDef(\"x\",Plus(\"x\",\"x\"))\n",
    "// (\\x.x+x) 3\n",
    "val f3:Expr = FunCall(f, three)\n",
    "\n",
    "//f evaluates to correct closures\n",
    "assert(eval(EmptyEnv,f) equals Closure(\"x\", Plus(\"x\",\"x\"), EmptyEnv))\n",
    "assert(eval(Extend(\"x\", two, EmptyEnv),f) equals Closure(\"x\", Plus(\"x\",\"x\"), Extend(\"x\", two, EmptyEnv)))\n",
    "\n",
    "//f(3) evaluates to correct value regardless of shadowed enclosing scope defn\n",
    "assert(eval(EmptyEnv,f3) equals NumVal(Positive(six)))\n",
    "assert(eval(Extend(\"x\", two, EmptyEnv),f3) equals NumVal(Positive(six)))\n",
    "\n",
    "\n",
    "//let rec f = /*factorial*/ in f(3) \n",
    "val fact3:Expr = LetRec(\"f\",\"x\",\n",
    "                        IfThenElse(\n",
    "                            Eq(\"x\",one),\n",
    "                            one,\n",
    "                            Mult(\"x\", FunCall(\"f\", Minus(\"x\",one)))\n",
    "                        ),\n",
    "                       FunCall(\"f\",three)\n",
    "                      )\n",
    "//evaluates to 6 regardless of shadowed enclosing scope defns\n",
    "assert(eval(EmptyEnv,fact3) equals NumVal(Positive(six)))\n",
    "assert(eval(Extend(\"x\", seven, EmptyEnv),fact3) equals NumVal(Positive(six)))\n",
    "assert(eval(Extend(\"f\", seven, EmptyEnv),fact3) equals NumVal(Positive(six)))"
   ]
  },
  {
   "cell_type": "markdown",
   "metadata": {},
   "source": [
    "## Types in Lettuce (5 pts)\n",
    "\n",
    "Create the datatype for Types that we discussed in-class. This should have constructors for NumType, BoolType, and FunType"
   ]
  },
  {
   "cell_type": "code",
   "execution_count": null,
   "metadata": {
    "deletable": false,
    "nbgrader": {
     "checksum": "8043df76c5c066113f95738bd20c0743",
     "grade": false,
     "grade_id": "cell-1a2040c92d3f71ce",
     "locked": false,
     "schema_version": 1,
     "solution": true
    }
   },
   "outputs": [],
   "source": [
    "sealed trait Type \n",
    "??? // YOUR CODE HERE"
   ]
  },
  {
   "cell_type": "code",
   "execution_count": null,
   "metadata": {
    "deletable": false,
    "editable": false,
    "nbgrader": {
     "checksum": "8423e916c795346243234d534cfc474d",
     "grade": true,
     "grade_id": "types-test",
     "locked": true,
     "points": 5,
     "schema_version": 1,
     "solution": false
    }
   },
   "outputs": [],
   "source": [
    "//Autograder tests: These should compile if your Type definition is correct.\n",
    "val t1:Type = NumType\n",
    "val t2:Type = BoolType\n",
    "val t3:Type = FunType(NumType, BoolType)\n",
    "val t4:Type = FunType(t3, t3)"
   ]
  }
 ],
 "metadata": {
  "kernelspec": {
   "display_name": "Scala",
   "language": "scala",
   "name": "scala"
  },
  "language_info": {
   "codemirror_mode": "text/x-scala",
   "file_extension": ".scala",
   "mimetype": "text/x-scala",
   "name": "scala",
   "nbconvert_exporter": "script",
   "version": "2.12.8"
  }
 },
 "nbformat": 4,
 "nbformat_minor": 2
}
