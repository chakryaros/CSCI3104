{
 "cells": [
  {
   "cell_type": "code",
   "execution_count": 0,
   "metadata": {},
   "outputs": [
    {
     "name": "stderr",
     "output_type": "stream",
     "text": [
      "cmd0.sc:109: object hw2stdlib is not a member of package ammonite.$sess\n",
      "import ammonite.$sess.hw2stdlib.{\n",
      "                      ^cmd0.sc:2: not found: value hw2stdlib\n",
      "import hw2stdlib._\n",
      "       ^Compilation Failed"
     ]
    },
    {
     "ename": "",
     "evalue": "",
     "output_type": "error",
     "traceback": [
      "Compilation Failed"
     ]
    }
   ],
   "source": [
    "import $file.hw2stdlib\n",
    "import hw2stdlib._"
   ]
  },
  {
   "cell_type": "markdown",
   "metadata": {},
   "source": [
    "# Recitation: Week 2\n",
    "\n",
    "## Topics\n",
    "\n",
    "* Polymorphism\n",
    "* Using Higher Ordered Functions(Map, Fold, Filter)\n",
    "* Skeleton for Arithmetic Interpretter\n",
    "\n",
    "## Polymorphism\n",
    "\n",
    "\n",
    "\n",
    "We learned that certain types have a very common structure and make sense to abstract over a type variable. These are called polymorphic types. Examples we talked about in class are Lists and Maybe. Others include Sums and Products. Which are usually called $\\texttt{Pair}$ and $\\texttt{Either}$. \n",
    "\n",
    "Let's start by writing polymorphic lists."
   ]
  },
  {
   "cell_type": "code",
   "execution_count": 4,
   "metadata": {},
   "outputs": [
    {
     "data": {
      "text/plain": [
       "defined \u001b[32mtrait\u001b[39m \u001b[36mList\u001b[39m\n",
       "defined \u001b[32mobject\u001b[39m \u001b[36mEmpty\u001b[39m\n",
       "defined \u001b[32mclass\u001b[39m \u001b[36mCons\u001b[39m"
      ]
     },
     "execution_count": 4,
     "metadata": {},
     "output_type": "execute_result"
    }
   ],
   "source": [
    "sealed trait List[+A]\n",
    "case object Empty extends List[Nothing]\n",
    "case class Cons[A](x: A, xs: List[A]) extends List[A]"
   ]
  },
  {
   "cell_type": "code",
   "execution_count": 7,
   "metadata": {},
   "outputs": [
    {
     "name": "stdout",
     "output_type": "stream",
     "text": [
      "Cons(True,Cons(False,Cons(True,Empty)))\n"
     ]
    },
    {
     "data": {
      "text/plain": [
       "defined \u001b[32mfunction\u001b[39m \u001b[36mex\u001b[39m"
      ]
     },
     "execution_count": 7,
     "metadata": {},
     "output_type": "execute_result"
    }
   ],
   "source": [
    "def ex : List[Bool] = Cons(True, Cons(False, Cons(True, Empty)))\n",
    "\n",
    "println(ex)"
   ]
  },
  {
   "cell_type": "markdown",
   "metadata": {},
   "source": [
    "We will wait to do Maybe for the homework. Let's do Pair and Either though"
   ]
  },
  {
   "cell_type": "code",
   "execution_count": null,
   "metadata": {},
   "outputs": [],
   "source": [
    "// sealed trait Maybe\n",
    "// case object Empty extends Nothing\n",
    "// case "
   ]
  },
  {
   "cell_type": "code",
   "execution_count": 8,
   "metadata": {},
   "outputs": [
    {
     "data": {
      "text/plain": [
       "defined \u001b[32mtrait\u001b[39m \u001b[36mPair\u001b[39m\n",
       "defined \u001b[32mclass\u001b[39m \u001b[36mMkPair\u001b[39m"
      ]
     },
     "execution_count": 8,
     "metadata": {},
     "output_type": "execute_result"
    }
   ],
   "source": [
    "sealed trait Pair[+A, +B]\n",
    "case class MkPair[A, B](fst : A, snd : B) extends Pair[A, B]"
   ]
  },
  {
   "cell_type": "code",
   "execution_count": 11,
   "metadata": {},
   "outputs": [
    {
     "data": {
      "text/plain": [
       "defined \u001b[32mfunction\u001b[39m \u001b[36mex_pair\u001b[39m\n",
       "defined \u001b[32mfunction\u001b[39m \u001b[36mex_tuple\u001b[39m"
      ]
     },
     "execution_count": 11,
     "metadata": {},
     "output_type": "execute_result"
    }
   ],
   "source": [
    "def ex_pair = MkPair(\"String\", five)\n",
    "def ex_tuple = (\"String\", five)"
   ]
  },
  {
   "cell_type": "code",
   "execution_count": 13,
   "metadata": {},
   "outputs": [
    {
     "data": {
      "text/plain": [
       "defined \u001b[32mtrait\u001b[39m \u001b[36mEither\u001b[39m\n",
       "defined \u001b[32mclass\u001b[39m \u001b[36mLeft\u001b[39m\n",
       "defined \u001b[32mclass\u001b[39m \u001b[36mRight\u001b[39m"
      ]
     },
     "execution_count": 13,
     "metadata": {},
     "output_type": "execute_result"
    }
   ],
   "source": [
    "sealed trait Either[+A, +B]\n",
    "case class Left[A, B](left : A) extends Either[A, B]\n",
    "case class Right[A, B](right : B) extends Either[A, B]"
   ]
  },
  {
   "cell_type": "code",
   "execution_count": 18,
   "metadata": {},
   "outputs": [
    {
     "data": {
      "text/plain": [
       "defined \u001b[32mtrait\u001b[39m \u001b[36mEither\u001b[39m\n",
       "defined \u001b[32mclass\u001b[39m \u001b[36mLeft\u001b[39m\n",
       "defined \u001b[32mclass\u001b[39m \u001b[36mRight\u001b[39m"
      ]
     },
     "execution_count": 18,
     "metadata": {},
     "output_type": "execute_result"
    }
   ],
   "source": [
    "// sealed trait Either[+A, +B]\n",
    "// case class Left[A](left : A) extends Either[A, Nothing]\n",
    "// case class Right[B](right : B) extends Either[Nothing, B]"
   ]
  },
  {
   "cell_type": "code",
   "execution_count": null,
   "metadata": {},
   "outputs": [],
   "source": []
  },
  {
   "cell_type": "code",
   "execution_count": 20,
   "metadata": {},
   "outputs": [
    {
     "data": {
      "text/plain": [
       "defined \u001b[32mfunction\u001b[39m \u001b[36mex_either1\u001b[39m\n",
       "defined \u001b[32mfunction\u001b[39m \u001b[36mex_either2\u001b[39m"
      ]
     },
     "execution_count": 20,
     "metadata": {},
     "output_type": "execute_result"
    }
   ],
   "source": [
    "def ex_either1 : Either[Nat, Nothing] = Left(four)\n",
    "def ex_either2 : Either[Nat, Bool] = Right(True)"
   ]
  },
  {
   "cell_type": "code",
   "execution_count": 21,
   "metadata": {},
   "outputs": [
    {
     "data": {
      "text/plain": [
       "defined \u001b[32mtrait\u001b[39m \u001b[36mUnit\u001b[39m\n",
       "defined \u001b[32mobject\u001b[39m \u001b[36munit\u001b[39m"
      ]
     },
     "execution_count": 21,
     "metadata": {},
     "output_type": "execute_result"
    }
   ],
   "source": [
    "sealed trait Unit\n",
    "case object unit extends Unit"
   ]
  },
  {
   "cell_type": "code",
   "execution_count": 23,
   "metadata": {},
   "outputs": [
    {
     "data": {
      "text/plain": [
       "defined \u001b[32mfunction\u001b[39m \u001b[36mtoFakeMaybe\u001b[39m"
      ]
     },
     "execution_count": 23,
     "metadata": {},
     "output_type": "execute_result"
    }
   ],
   "source": [
    "def toFakeMaybe[A](b : Bool, x : A) : Either[Unit, A] = b match {\n",
    "    case True => Right(x)\n",
    "    case False => Left(unit)\n",
    "}"
   ]
  },
  {
   "cell_type": "markdown",
   "metadata": {},
   "source": [
    "## Higher Ordered Functions\n",
    "\n",
    "Higher-ordered functions will be written in a similiar manner as the datatypes above\n",
    "\n",
    "### Map"
   ]
  },
  {
   "cell_type": "code",
   "execution_count": 0,
   "metadata": {},
   "outputs": [
    {
     "name": "stderr",
     "output_type": "stream",
     "text": [
      "cmd0.sc:2: not found: value Empty\n",
      "    case Empty => Empty\n",
      "         ^cmd0.sc:2: not found: value Empty\n",
      "    case Empty => Empty\n",
      "                  ^cmd0.sc:3: not found: value Cons\n",
      "    case Cons(x, xs) => Cons(f(x), map(f, xs))\n",
      "         ^cmd0.sc:3: not found: value Cons\n",
      "    case Cons(x, xs) => Cons(f(x), map(f, xs))\n",
      "                        ^Compilation Failed"
     ]
    },
    {
     "ename": "",
     "evalue": "",
     "output_type": "error",
     "traceback": [
      "Compilation Failed"
     ]
    }
   ],
   "source": [
    "def map[A, B](f : (A => B), xs : List[A]) : List[B] = xs match {\n",
    "    case Empty => Empty\n",
    "    case Cons(x, xs) => Cons(f(x), map(f, xs))\n",
    "} "
   ]
  },
  {
   "cell_type": "code",
   "execution_count": null,
   "metadata": {},
   "outputs": [],
   "source": [
    "// def map( f:(Int) => Int, l:List[Int] ): List[Int] =\n",
    "//   l match {\n",
    "//     case Nil => Nil\n",
    "//     case x :: t => f(x) :: map(f, t)\n",
    "//   }"
   ]
  },
  {
   "cell_type": "markdown",
   "metadata": {},
   "source": [
    "### Fold"
   ]
  },
  {
   "cell_type": "code",
   "execution_count": 24,
   "metadata": {},
   "outputs": [
    {
     "data": {
      "text/plain": [
       "defined \u001b[32mfunction\u001b[39m \u001b[36mfold\u001b[39m"
      ]
     },
     "execution_count": 24,
     "metadata": {},
     "output_type": "execute_result"
    }
   ],
   "source": [
    "def fold[A, B](f : (A => B => B), acc : B, xs : List[A]) : B = xs match {\n",
    "    case Empty => acc\n",
    "    case Cons(x, xs) => fold(f, f(x)(acc), xs)\n",
    "}"
   ]
  },
  {
   "cell_type": "code",
   "execution_count": null,
   "metadata": {},
   "outputs": [],
   "source": []
  },
  {
   "cell_type": "markdown",
   "metadata": {},
   "source": [
    "We'll save filter for this weekend's homework\n",
    "\n",
    "## Using Higher Ordered Functions"
   ]
  },
  {
   "cell_type": "code",
   "execution_count": 26,
   "metadata": {},
   "outputs": [
    {
     "data": {
      "text/plain": [
       "defined \u001b[32mfunction\u001b[39m \u001b[36mplusfive\u001b[39m"
      ]
     },
     "execution_count": 26,
     "metadata": {},
     "output_type": "execute_result"
    }
   ],
   "source": [
    "def plusfive(xs : List[Nat]) : List[Nat] = map((x : Nat) => plus(five, x), xs)"
   ]
  },
  {
   "cell_type": "code",
   "execution_count": null,
   "metadata": {},
   "outputs": [],
   "source": []
  }
 ],
 "metadata": {
  "kernelspec": {
   "display_name": "Scala",
   "language": "scala",
   "name": "scala"
  },
  "language_info": {
   "codemirror_mode": "text/x-scala",
   "file_extension": ".scala",
   "mimetype": "text/x-scala",
   "name": "scala",
   "nbconvert_exporter": "script",
   "version": "2.12.8"
  }
 },
 "nbformat": 4,
 "nbformat_minor": 2
}
