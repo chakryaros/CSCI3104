{
 "cells": [
  {
   "cell_type": "markdown",
   "metadata": {},
   "source": [
    "# Homework 1\n",
    "\n",
    "Name : Chakrya Ros "
   ]
  },
  {
   "cell_type": "code",
   "execution_count": 3,
   "metadata": {},
   "outputs": [
    {
     "data": {
      "text/plain": [
       "defined \u001b[32mtrait\u001b[39m \u001b[36mNat\u001b[39m\n",
       "defined \u001b[32mobject\u001b[39m \u001b[36mZero\u001b[39m\n",
       "defined \u001b[32mclass\u001b[39m \u001b[36mSucc\u001b[39m\n",
       "\u001b[36mone\u001b[39m: \u001b[32mSucc\u001b[39m = \u001b[33mSucc\u001b[39m(Zero)\n",
       "\u001b[36mtwo\u001b[39m: \u001b[32mSucc\u001b[39m = \u001b[33mSucc\u001b[39m(\u001b[33mSucc\u001b[39m(Zero))\n",
       "\u001b[36mthree\u001b[39m: \u001b[32mSucc\u001b[39m = \u001b[33mSucc\u001b[39m(\u001b[33mSucc\u001b[39m(\u001b[33mSucc\u001b[39m(Zero)))\n",
       "\u001b[36mfour\u001b[39m: \u001b[32mSucc\u001b[39m = \u001b[33mSucc\u001b[39m(\u001b[33mSucc\u001b[39m(\u001b[33mSucc\u001b[39m(\u001b[33mSucc\u001b[39m(Zero))))\n",
       "\u001b[36mfive\u001b[39m: \u001b[32mSucc\u001b[39m = \u001b[33mSucc\u001b[39m(\u001b[33mSucc\u001b[39m(\u001b[33mSucc\u001b[39m(\u001b[33mSucc\u001b[39m(\u001b[33mSucc\u001b[39m(Zero)))))\n",
       "defined \u001b[32mfunction\u001b[39m \u001b[36mplus\u001b[39m"
      ]
     },
     "execution_count": 3,
     "metadata": {},
     "output_type": "execute_result"
    }
   ],
   "source": [
    "sealed trait Nat\n",
    "case object Zero extends Nat\n",
    "case class Succ(pred : Nat) extends Nat\n",
    "\n",
    "val one = Succ(Zero)\n",
    "val two = Succ(one)\n",
    "val three = Succ(two)\n",
    "val four = Succ(three)\n",
    "val five = Succ(four)\n",
    "\n",
    "def plus(x : Nat, y : Nat) : Nat = x match {\n",
    "    case Zero    => y\n",
    "    case Succ(x) => Succ(plus(x, y))\n",
    "}"
   ]
  },
  {
   "cell_type": "code",
   "execution_count": 5,
   "metadata": {},
   "outputs": [
    {
     "data": {
      "text/plain": [
       "defined \u001b[32mfunction\u001b[39m \u001b[36mplus_tail\u001b[39m\n",
       "\u001b[36mres4_1\u001b[39m: \u001b[32mString\u001b[39m = \u001b[32m\"9\"\u001b[39m"
      ]
     },
     "execution_count": 5,
     "metadata": {},
     "output_type": "execute_result"
    }
   ],
   "source": [
    "// def plus_tail(x: Nat, y: Nat) : Nat = x match {\n",
    "//     case Zero => y\n",
    "//     case Succ(x) => plus(x, Succ(y))\n",
    "// }\n",
    "// print_nat(plus_tail(five, four))"
   ]
  },
  {
   "cell_type": "markdown",
   "metadata": {},
   "source": [
    "The following code is a function to pretty-print natural numbers. Feel\n",
    "free to use these to test your implementations.\n",
    "There is a similiar function for lists defined below. Please ignore the \n",
    "helper functions. They use some tricks to make it easy to implement this\n",
    "functionality. How they work will be explained at a later point."
   ]
  },
  {
   "cell_type": "code",
   "execution_count": 2,
   "metadata": {},
   "outputs": [
    {
     "data": {
      "text/plain": [
       "defined \u001b[32mfunction\u001b[39m \u001b[36mnat_to_int\u001b[39m\n",
       "defined \u001b[32mfunction\u001b[39m \u001b[36mprint_nat\u001b[39m\n",
       "\u001b[36mres1_2\u001b[39m: \u001b[32mString\u001b[39m = \u001b[32m\"4\"\u001b[39m\n",
       "\u001b[36mres1_3\u001b[39m: \u001b[32mString\u001b[39m = \u001b[32m\"1\"\u001b[39m"
      ]
     },
     "execution_count": 2,
     "metadata": {},
     "output_type": "execute_result"
    }
   ],
   "source": [
    "def nat_to_int(x : Nat) : Int = x match {\n",
    "    case Zero => 0\n",
    "    case Succ( x ) => 1 + nat_to_int(x)\n",
    "}\n",
    "\n",
    "def print_nat(x : Nat) : String = nat_to_int(x).toString\n",
    "\n",
    "print_nat(four)\n",
    "print_nat(one)"
   ]
  },
  {
   "cell_type": "markdown",
   "metadata": {},
   "source": [
    "## Natural Numbers\n",
    "\n",
    "Write some functions on natural numbers. For better visualization you can use the print_nat function provided above to see these numbers in the base-10 system.\n",
    "\n",
    "## Problem 1: Multiplication\n",
    "\n",
    "Given the definition of plus above, write the multiplication function"
   ]
  },
  {
   "cell_type": "code",
   "execution_count": 3,
   "metadata": {},
   "outputs": [
    {
     "data": {
      "text/plain": [
       "defined \u001b[32mfunction\u001b[39m \u001b[36mmult\u001b[39m"
      ]
     },
     "execution_count": 3,
     "metadata": {},
     "output_type": "execute_result"
    }
   ],
   "source": [
    "\n",
    "def mult(x: Nat, y: Nat) : Nat = x match {\n",
    "    case Zero => Zero\n",
    "    case Succ(x) => plus(mult(x,y),y)\n",
    "}"
   ]
  },
  {
   "cell_type": "code",
   "execution_count": 4,
   "metadata": {},
   "outputs": [
    {
     "data": {
      "text/plain": [
       "\u001b[36mres3_0\u001b[39m: \u001b[32mString\u001b[39m = \u001b[32m\"20\"\u001b[39m\n",
       "\u001b[36mres3_1\u001b[39m: \u001b[32mString\u001b[39m = \u001b[32m\"25\"\u001b[39m"
      ]
     },
     "execution_count": 4,
     "metadata": {},
     "output_type": "execute_result"
    }
   ],
   "source": [
    "print_nat(mult(five, four)) // Should be 20\n",
    "print_nat(mult(five, five)) // Should be 25"
   ]
  },
  {
   "cell_type": "markdown",
   "metadata": {},
   "source": [
    "In this first homework we will work more on writing datatypes and functions over them\n",
    "\n",
    "## Lists\n",
    "\n",
    "Here is the definition of lists of numbers that was given in class:\n",
    "\n",
    "$$\n",
    "\\begin{align}\n",
    "\\text{List}\\ :=&\\ \\text{Empty}\\\\\n",
    "\\mid&\\ \\text{Cons}\\ \\mathbb{N}\\ \\text{List}\n",
    "\\end{align}\n",
    "$$\n",
    "\n",
    "## Problem 2: Defining List\n",
    "\n",
    "Define lists in Scala.  If you need help, try looking at the notebook from the recitation"
   ]
  },
  {
   "cell_type": "code",
   "execution_count": 5,
   "metadata": {},
   "outputs": [
    {
     "data": {
      "text/plain": [
       "defined \u001b[32mtrait\u001b[39m \u001b[36mList\u001b[39m\n",
       "defined \u001b[32mobject\u001b[39m \u001b[36mEmpty\u001b[39m\n",
       "defined \u001b[32mclass\u001b[39m \u001b[36mCons\u001b[39m"
      ]
     },
     "execution_count": 5,
     "metadata": {},
     "output_type": "execute_result"
    }
   ],
   "source": [
    "sealed trait List\n",
    "case object Empty extends List\n",
    "case class Cons(head: Nat, tail : List) extends List"
   ]
  },
  {
   "cell_type": "markdown",
   "metadata": {},
   "source": [
    "If you've defined this correctly, the following examples should compile and pretty-print"
   ]
  },
  {
   "cell_type": "code",
   "execution_count": 6,
   "metadata": {},
   "outputs": [
    {
     "data": {
      "text/plain": [
       "defined \u001b[32mfunction\u001b[39m \u001b[36mex1\u001b[39m\n",
       "defined \u001b[32mfunction\u001b[39m \u001b[36mex2\u001b[39m\n",
       "defined \u001b[32mfunction\u001b[39m \u001b[36mex3\u001b[39m"
      ]
     },
     "execution_count": 6,
     "metadata": {},
     "output_type": "execute_result"
    }
   ],
   "source": [
    "def ex1 = Cons(one, Cons(two, Cons(three, Cons(four, Cons(five, Empty)))))\n",
    "def ex2 = Cons(one, Empty)\n",
    "def ex3 = Empty"
   ]
  },
  {
   "cell_type": "markdown",
   "metadata": {},
   "source": [
    "### List Prettyprinting\n",
    "\n",
    "Here is a pretty printer for lists. You should be able to make sense of what it is doing. Feel free to use it going forward."
   ]
  },
  {
   "cell_type": "code",
   "execution_count": 7,
   "metadata": {},
   "outputs": [
    {
     "data": {
      "text/plain": [
       "defined \u001b[32mfunction\u001b[39m \u001b[36mprint_list_helper\u001b[39m\n",
       "defined \u001b[32mfunction\u001b[39m \u001b[36mprint_list\u001b[39m"
      ]
     },
     "execution_count": 7,
     "metadata": {},
     "output_type": "execute_result"
    }
   ],
   "source": [
    "def print_list_helper(xs : List) : String = xs match {\n",
    "    case Empty => \"\"\n",
    "    case Cons(x, Empty) => print_nat(x)\n",
    "    case Cons(x, xs) => print_nat(x) + \", \" + print_list_helper(xs)\n",
    "}\n",
    "\n",
    "def print_list(xs : List) : String = \"[\" + print_list_helper(xs) + \"]\""
   ]
  },
  {
   "cell_type": "markdown",
   "metadata": {},
   "source": [
    "If you defined the list datatype correctly, the following cell should print each list in a more human-readable way."
   ]
  },
  {
   "cell_type": "code",
   "execution_count": 8,
   "metadata": {},
   "outputs": [
    {
     "data": {
      "text/plain": [
       "\u001b[36mres7_0\u001b[39m: \u001b[32mString\u001b[39m = \u001b[32m\"[1, 2, 3, 4, 5]\"\u001b[39m\n",
       "\u001b[36mres7_1\u001b[39m: \u001b[32mString\u001b[39m = \u001b[32m\"[1]\"\u001b[39m\n",
       "\u001b[36mres7_2\u001b[39m: \u001b[32mString\u001b[39m = \u001b[32m\"[]\"\u001b[39m"
      ]
     },
     "execution_count": 8,
     "metadata": {},
     "output_type": "execute_result"
    }
   ],
   "source": [
    "print_list(ex1)\n",
    "print_list(ex2)\n",
    "print_list(ex3)"
   ]
  },
  {
   "cell_type": "code",
   "execution_count": null,
   "metadata": {},
   "outputs": [],
   "source": []
  },
  {
   "cell_type": "markdown",
   "metadata": {},
   "source": [
    "## Problem 3: Length\n",
    "\n",
    "Write the length function for lists. This function should take in a List and return its length as a Nat."
   ]
  },
  {
   "cell_type": "code",
   "execution_count": 9,
   "metadata": {},
   "outputs": [
    {
     "data": {
      "text/plain": [
       "defined \u001b[32mfunction\u001b[39m \u001b[36mlength\u001b[39m"
      ]
     },
     "execution_count": 9,
     "metadata": {},
     "output_type": "execute_result"
    }
   ],
   "source": [
    "def length(x : List) : Nat = x match {\n",
    "    case Empty => Zero\n",
    "    case Cons(x, Empty) => Succ(Zero)\n",
    "    case Cons(x, xs) => Succ(length(xs))\n",
    "}\n"
   ]
  },
  {
   "cell_type": "code",
   "execution_count": 10,
   "metadata": {},
   "outputs": [
    {
     "data": {
      "text/plain": [
       "\u001b[36mres9_0\u001b[39m: \u001b[32mString\u001b[39m = \u001b[32m\"0\"\u001b[39m\n",
       "\u001b[36mres9_1\u001b[39m: \u001b[32mString\u001b[39m = \u001b[32m\"5\"\u001b[39m\n",
       "\u001b[36mres9_2\u001b[39m: \u001b[32mString\u001b[39m = \u001b[32m\"1\"\u001b[39m"
      ]
     },
     "execution_count": 10,
     "metadata": {},
     "output_type": "execute_result"
    }
   ],
   "source": [
    "print_nat(length(Empty))\n",
    "print_nat(length(ex1))\n",
    "print_nat(length(ex2))"
   ]
  },
  {
   "cell_type": "markdown",
   "metadata": {},
   "source": [
    "## Problem 4: Init\n",
    "\n",
    "Write a function that removes the last element in the list"
   ]
  },
  {
   "cell_type": "code",
   "execution_count": 11,
   "metadata": {},
   "outputs": [
    {
     "data": {
      "text/plain": [
       "defined \u001b[32mfunction\u001b[39m \u001b[36minit\u001b[39m"
      ]
     },
     "execution_count": 11,
     "metadata": {},
     "output_type": "execute_result"
    }
   ],
   "source": [
    "def init(x : List) : List = x match {\n",
    "    case Empty => Empty\n",
    "    case Cons(x, Empty) => Empty\n",
    "    case Cons(x, xs) => Cons(x, init(xs))\n",
    "}"
   ]
  },
  {
   "cell_type": "code",
   "execution_count": 12,
   "metadata": {},
   "outputs": [
    {
     "data": {
      "text/plain": [
       "\u001b[36mres11_0\u001b[39m: \u001b[32mString\u001b[39m = \u001b[32m\"[1, 2, 3, 4]\"\u001b[39m\n",
       "\u001b[36mres11_1\u001b[39m: \u001b[32mString\u001b[39m = \u001b[32m\"[]\"\u001b[39m"
      ]
     },
     "execution_count": 12,
     "metadata": {},
     "output_type": "execute_result"
    }
   ],
   "source": [
    "print_list(init(ex1)) // should be [1, 2, 3, 4]\n",
    "print_list(init(ex2)) // should be [ ]"
   ]
  },
  {
   "cell_type": "markdown",
   "metadata": {},
   "source": [
    "## Problem 5: Last\n",
    "\n",
    "define the function which returns a singleton list containing the last element of a list.\n",
    "\n",
    "Some Examples:\n",
    "\n",
    "* \\[ 1, 2, 3, 4 \\] -> \\[ 4 \\]\n",
    "* \\[ \\] -> \\[ \\]\n",
    "* \\[ 1 \\] -> \\[ 1 \\]"
   ]
  },
  {
   "cell_type": "code",
   "execution_count": 13,
   "metadata": {},
   "outputs": [
    {
     "data": {
      "text/plain": [
       "defined \u001b[32mfunction\u001b[39m \u001b[36mlast\u001b[39m"
      ]
     },
     "execution_count": 13,
     "metadata": {},
     "output_type": "execute_result"
    }
   ],
   "source": [
    "def last(y : List) : List = y match {\n",
    "    case Empty => Empty\n",
    "    case Cons(x, Empty) => y\n",
    "    case Cons(x, y) => last(y)\n",
    "}"
   ]
  },
  {
   "cell_type": "code",
   "execution_count": 14,
   "metadata": {},
   "outputs": [
    {
     "data": {
      "text/plain": [
       "\u001b[36mres13_0\u001b[39m: \u001b[32mString\u001b[39m = \u001b[32m\"[5]\"\u001b[39m\n",
       "\u001b[36mres13_1\u001b[39m: \u001b[32mString\u001b[39m = \u001b[32m\"[1]\"\u001b[39m\n",
       "\u001b[36mres13_2\u001b[39m: \u001b[32mString\u001b[39m = \u001b[32m\"[]\"\u001b[39m"
      ]
     },
     "execution_count": 14,
     "metadata": {},
     "output_type": "execute_result"
    }
   ],
   "source": [
    "print_list(last(ex1))\n",
    "print_list(last(ex2))\n",
    "print_list(last(ex3))"
   ]
  },
  {
   "cell_type": "markdown",
   "metadata": {},
   "source": [
    "## Bonus Problem: Append two lists\n",
    "\n",
    "Hint: You might want to use init and last to do this"
   ]
  },
  {
   "cell_type": "code",
   "execution_count": 20,
   "metadata": {},
   "outputs": [
    {
     "data": {
      "text/plain": [
       "defined \u001b[32mfunction\u001b[39m \u001b[36mappend\u001b[39m"
      ]
     },
     "execution_count": 20,
     "metadata": {},
     "output_type": "execute_result"
    }
   ],
   "source": [
    "def append(xs : List, ys: List) : List = last(xs) match {\n",
    "    case Empty => ys\n",
    "    case Cons(x, y) => append(init(xs), Cons(x, ys))\n",
    "\n",
    "}"
   ]
  },
  {
   "cell_type": "code",
   "execution_count": 21,
   "metadata": {},
   "outputs": [
    {
     "data": {
      "text/plain": [
       "\u001b[36mres20\u001b[39m: \u001b[32mString\u001b[39m = \u001b[32m\"[1, 2, 3, 4, 5, 6, 3, 0]\"\u001b[39m"
      ]
     },
     "execution_count": 21,
     "metadata": {},
     "output_type": "execute_result"
    }
   ],
   "source": [
    "print_list(append(ex1, Cons(Succ(five), Cons(three, Cons(Zero, Empty)))))"
   ]
  },
  {
   "cell_type": "code",
   "execution_count": 22,
   "metadata": {},
   "outputs": [
    {
     "data": {
      "text/plain": [
       "defined \u001b[32mfunction\u001b[39m \u001b[36mappend_version1\u001b[39m"
      ]
     },
     "execution_count": 22,
     "metadata": {},
     "output_type": "execute_result"
    }
   ],
   "source": [
    "//another method without init and last\n",
    "def append_version1(xs : List, ys: List) : List = xs match {\n",
    "    case Empty => ys\n",
    "    case Cons(x, xs) => Cons(x, append(xs, ys))\n",
    "}"
   ]
  },
  {
   "cell_type": "code",
   "execution_count": 18,
   "metadata": {},
   "outputs": [
    {
     "data": {
      "text/plain": [
       "\u001b[36mres17\u001b[39m: \u001b[32mString\u001b[39m = \u001b[32m\"[1, 2, 3, 4, 5, 6, 3, 0]\"\u001b[39m"
      ]
     },
     "execution_count": 18,
     "metadata": {},
     "output_type": "execute_result"
    }
   ],
   "source": [
    "print_list(append_version1(ex1, Cons(Succ(five), Cons(three, Cons(Zero, Empty)))))"
   ]
  },
  {
   "cell_type": "code",
   "execution_count": 19,
   "metadata": {},
   "outputs": [
    {
     "data": {
      "text/plain": [
       "defined \u001b[32mfunction\u001b[39m \u001b[36mex4\u001b[39m\n",
       "defined \u001b[32mfunction\u001b[39m \u001b[36mex5\u001b[39m\n",
       "\u001b[36mres18_2\u001b[39m: \u001b[32mString\u001b[39m = \u001b[32m\"[6, 3, 0]\"\u001b[39m\n",
       "\u001b[36mres18_3\u001b[39m: \u001b[32mString\u001b[39m = \u001b[32m\"[1, 2, 3, 4, 5, 1, 2, 3]\"\u001b[39m"
      ]
     },
     "execution_count": 19,
     "metadata": {},
     "output_type": "execute_result"
    }
   ],
   "source": [
    "def ex4 = Empty\n",
    "def ex5 = Cons(Succ(Zero), Cons(two, Cons(three, Empty)))\n",
    "print_list(append(ex4, Cons(Succ(five), Cons(three, Cons(Zero, Empty)))))  \n",
    "print_list(append(ex1, ex5))"
   ]
  },
  {
   "cell_type": "code",
   "execution_count": null,
   "metadata": {},
   "outputs": [],
   "source": []
  }
 ],
 "metadata": {
  "kernelspec": {
   "display_name": "Scala",
   "language": "scala",
   "name": "scala"
  },
  "language_info": {
   "codemirror_mode": "text/x-scala",
   "file_extension": ".scala",
   "mimetype": "text/x-scala",
   "name": "scala",
   "nbconvert_exporter": "script",
   "version": "2.12.8"
  }
 },
 "nbformat": 4,
 "nbformat_minor": 2
}
