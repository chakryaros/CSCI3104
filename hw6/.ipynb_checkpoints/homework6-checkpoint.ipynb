{
 "cells": [
  {
   "cell_type": "markdown",
   "metadata": {},
   "source": [
    "Before you turn this problem in, make sure everything runs as expected. First, **restart the kernel** (in the menubar, select Kernel$\\rightarrow$Restart) and then **run all cells** (in the menubar, select Cell$\\rightarrow$Run All).\n",
    "\n",
    "Make sure you fill in any place that says `YOUR CODE HERE` or \"YOUR ANSWER HERE\", as well as your name and collaborators below:"
   ]
  },
  {
   "cell_type": "markdown",
   "metadata": {},
   "source": [
    "NAME = \"Chakrya Ros\"\n",
    "COLLABORATORS = \"\""
   ]
  },
  {
   "cell_type": "markdown",
   "metadata": {},
   "source": [
    "---"
   ]
  },
  {
   "cell_type": "code",
   "execution_count": 1,
   "metadata": {},
   "outputs": [
    {
     "data": {
      "text/plain": [
       "\u001b[32mimport \u001b[39m\u001b[36m$file.$        \n",
       "\u001b[39m\n",
       "\u001b[32mimport \u001b[39m\u001b[36mhw6stdlib._\u001b[39m"
      ]
     },
     "execution_count": 1,
     "metadata": {},
     "output_type": "execute_result"
    }
   ],
   "source": [
    "import $file.hw6stdlib\n",
    "import hw6stdlib._"
   ]
  },
  {
   "cell_type": "markdown",
   "metadata": {},
   "source": [
    "# Homework 6\n",
    "\n",
    "In this assignment we will write the first full interpreter for Lettuce. Remember that lettuce is a functional language with let bindings. It is very similiar to a language called ML. Here we want to implement the interpreter for the language from the ground up. We will use most of the existing standard library we have developed while we write this, especially the equality functions and Dictionary data type from the last homework.\n",
    "\n",
    "## Part 1 - The Values\n",
    "\n",
    "Recall that we define interpreters as functions that take in expressions in the form of abstract syntax and give a value as output. In symbols:\n",
    "\n",
    "$$\n",
    "eval : Expr \\rightarrow Value\n",
    "$$\n",
    "\n",
    "It follows that we will need to create a datatype to represent the values that may be computed by lettuce. Below is the grammar that defines lettuce values. Implement this as a `sealed trait` in Scala below:\n",
    "\n",
    "$$\n",
    "\\begin{align}\n",
    "\\textbf{Value} ::=&\\ NumVal\\ \\mathbb{Z}\\\\\n",
    "\\mid&\\ BinVal\\ \\mathbb{B}\\\\\n",
    "\\mid&\\ Error\n",
    "\\end{align}\n",
    "$$"
   ]
  },
  {
   "cell_type": "code",
   "execution_count": 2,
   "metadata": {
    "deletable": false,
    "nbgrader": {
     "checksum": "4ef6379fccef6ad4d8f119ccc62a8eb9",
     "grade": false,
     "grade_id": "values-adt",
     "locked": false,
     "schema_version": 1,
     "solution": true
    }
   },
   "outputs": [
    {
     "data": {
      "text/plain": [
       "defined \u001b[32mtrait\u001b[39m \u001b[36mValue\u001b[39m\n",
       "defined \u001b[32mobject\u001b[39m \u001b[36mError\u001b[39m\n",
       "defined \u001b[32mclass\u001b[39m \u001b[36mNumVal\u001b[39m\n",
       "defined \u001b[32mclass\u001b[39m \u001b[36mBinVal\u001b[39m"
      ]
     },
     "execution_count": 2,
     "metadata": {},
     "output_type": "execute_result"
    }
   ],
   "source": [
    "sealed trait Value\n",
    "case object Error extends Value\n",
    "case class NumVal(x : Integer) extends Value\n",
    "case class BinVal(x : Bool) extends Value"
   ]
  },
  {
   "cell_type": "markdown",
   "metadata": {},
   "source": [
    "If your definition was correct then the values in the cell below should compile."
   ]
  },
  {
   "cell_type": "code",
   "execution_count": 3,
   "metadata": {
    "deletable": false,
    "editable": false,
    "nbgrader": {
     "checksum": "9fcd0f98e42603769a70b21703937fa4",
     "grade": true,
     "grade_id": "values-adt-test",
     "locked": true,
     "points": 5,
     "schema_version": 1,
     "solution": false
    }
   },
   "outputs": [
    {
     "data": {
      "text/plain": [
       "\u001b[36mv1\u001b[39m: \u001b[32mNumVal\u001b[39m = \u001b[33mNumVal\u001b[39m(\u001b[33mPositive\u001b[39m(\u001b[33mSucc\u001b[39m(\u001b[33mSucc\u001b[39m(Zero))))\n",
       "\u001b[36mv2\u001b[39m: \u001b[32mBinVal\u001b[39m = \u001b[33mBinVal\u001b[39m(False)\n",
       "\u001b[36mv3\u001b[39m: \u001b[32mError\u001b[39m = Error"
      ]
     },
     "execution_count": 3,
     "metadata": {},
     "output_type": "execute_result"
    }
   ],
   "source": [
    "val v1 = NumVal(Positive(Succ(Succ(Zero))))\n",
    "val v2 = BinVal(False)\n",
    "val v3 = Error"
   ]
  },
  {
   "cell_type": "markdown",
   "metadata": {},
   "source": [
    "## Part 2 - The Expressions\n",
    "\n",
    "There are many possible expressions in the Lettuce language. We also use an abstract syntax to represent this. Here is the grammar to remind you of all the syntactic elements in Lettuce:\n",
    "\n",
    "$$\\begin{array}{rcll}\n",
    "\\mathbf{Expr} & ::= & Const(\\mathbb{Z}) \\\\\n",
    " & | & Bin(\\mathbb{B}) \\\\\n",
    " & | & Ident(\\mathbf{String}) \\\\\n",
    " & | & Plus(\\mathbf{Expr}, \\mathbf{Expr}) \\\\\n",
    " & | & Minus(\\mathbf{Expr}, \\mathbf{Expr}) \\\\\n",
    " & | & Mult (\\mathbf{Expr}, \\mathbf{Expr}) \\\\\n",
    " & | & Pow (\\mathbf{Expr}, \\mathbf{Expr}) \\\\\n",
    " & | & Neg (\\mathbf{Expr}) \\\\\n",
    " & | & Eq (\\mathbf{Expr}, \\mathbf{Expr}) \\\\\n",
    " & | & And ( \\mathbf{Expr}, \\mathbf{Expr} ) \\\\\n",
    " & | & Or ( \\mathbf{Expr}, \\mathbf{Expr} ) \\\\\n",
    " & | & IfThenElse(\\mathbf{Expr}, \\mathbf{Expr}, \\mathbf{Expr}) \\\\\n",
    " & | & Let( \\mathbf{String}, \\mathbf{Expr}, \\mathbf{Expr}) \\\\\n",
    "\\end{array}$$\n",
    "\n",
    "Now define a `sealed trait` for expressions in Lettuce:"
   ]
  },
  {
   "cell_type": "code",
   "execution_count": 4,
   "metadata": {
    "deletable": false,
    "nbgrader": {
     "checksum": "7198ab983ef02766357235b35cfeb144",
     "grade": false,
     "grade_id": "expr",
     "locked": false,
     "schema_version": 1,
     "solution": true
    }
   },
   "outputs": [
    {
     "data": {
      "text/plain": [
       "defined \u001b[32mtrait\u001b[39m \u001b[36mExpr\u001b[39m\n",
       "defined \u001b[32mclass\u001b[39m \u001b[36mConst\u001b[39m\n",
       "defined \u001b[32mclass\u001b[39m \u001b[36mBin\u001b[39m\n",
       "defined \u001b[32mclass\u001b[39m \u001b[36mIdent\u001b[39m\n",
       "defined \u001b[32mclass\u001b[39m \u001b[36mPlus\u001b[39m\n",
       "defined \u001b[32mclass\u001b[39m \u001b[36mMinus\u001b[39m\n",
       "defined \u001b[32mclass\u001b[39m \u001b[36mMult\u001b[39m\n",
       "defined \u001b[32mclass\u001b[39m \u001b[36mPow\u001b[39m\n",
       "defined \u001b[32mclass\u001b[39m \u001b[36mNeg\u001b[39m\n",
       "defined \u001b[32mclass\u001b[39m \u001b[36mEq\u001b[39m\n",
       "defined \u001b[32mclass\u001b[39m \u001b[36mAnd\u001b[39m\n",
       "defined \u001b[32mclass\u001b[39m \u001b[36mOr\u001b[39m\n",
       "defined \u001b[32mclass\u001b[39m \u001b[36mIfThenElse\u001b[39m\n",
       "defined \u001b[32mclass\u001b[39m \u001b[36mLet\u001b[39m"
      ]
     },
     "execution_count": 4,
     "metadata": {},
     "output_type": "execute_result"
    }
   ],
   "source": [
    "sealed trait Expr\n",
    "case class Const(x: Integer) extends Expr\n",
    "case class Bin(x : Bool) extends Expr\n",
    "case class Ident(x : String) extends Expr\n",
    "case class Plus(x : Expr, y: Expr) extends Expr\n",
    "case class Minus(x: Expr, y: Expr) extends Expr\n",
    "case class Mult(x: Expr, y: Expr) extends Expr\n",
    "case class Pow(x: Expr, y: Expr) extends Expr\n",
    "case class Neg(x: Expr) extends Expr\n",
    "case class Eq(x: Expr, y: Expr) extends Expr\n",
    "case class And(x: Expr, y: Expr) extends Expr\n",
    "case class Or(x: Expr, y: Expr) extends Expr\n",
    "case class IfThenElse(x: Expr, y: Expr, z: Expr) extends Expr\n",
    "case class Let(x: String, y: Expr, z: Expr) extends Expr"
   ]
  },
  {
   "cell_type": "markdown",
   "metadata": {},
   "source": [
    "If you defined `Expr` properly then the following expressions should compile:"
   ]
  },
  {
   "cell_type": "code",
   "execution_count": 5,
   "metadata": {
    "deletable": false,
    "editable": false,
    "nbgrader": {
     "checksum": "dc2d7f017f3bbfd247659a4ccc08d18c",
     "grade": true,
     "grade_id": "expr-test",
     "locked": true,
     "points": 5,
     "schema_version": 1,
     "solution": false
    }
   },
   "outputs": [
    {
     "data": {
      "text/plain": [
       "\u001b[36mex1\u001b[39m: \u001b[32mConst\u001b[39m = \u001b[33mConst\u001b[39m(\u001b[33mPositive\u001b[39m(\u001b[33mSucc\u001b[39m(\u001b[33mSucc\u001b[39m(\u001b[33mSucc\u001b[39m(\u001b[33mSucc\u001b[39m(\u001b[33mSucc\u001b[39m(Zero)))))))\n",
       "\u001b[36mex2\u001b[39m: \u001b[32mConst\u001b[39m = \u001b[33mConst\u001b[39m(\u001b[33mNegative\u001b[39m(\u001b[33mSucc\u001b[39m(\u001b[33mSucc\u001b[39m(\u001b[33mSucc\u001b[39m(Zero)))))\n",
       "\u001b[36mex3\u001b[39m: \u001b[32mBin\u001b[39m = \u001b[33mBin\u001b[39m(True)\n",
       "\u001b[36mex4\u001b[39m: \u001b[32mIdent\u001b[39m = \u001b[33mIdent\u001b[39m(\u001b[32m\"x\"\u001b[39m)\n",
       "\u001b[36mex5\u001b[39m: \u001b[32mPlus\u001b[39m = \u001b[33mPlus\u001b[39m(\n",
       "  \u001b[33mConst\u001b[39m(\u001b[33mPositive\u001b[39m(\u001b[33mSucc\u001b[39m(\u001b[33mSucc\u001b[39m(\u001b[33mSucc\u001b[39m(\u001b[33mSucc\u001b[39m(\u001b[33mSucc\u001b[39m(Zero))))))),\n",
       "  \u001b[33mConst\u001b[39m(\u001b[33mNegative\u001b[39m(\u001b[33mSucc\u001b[39m(\u001b[33mSucc\u001b[39m(\u001b[33mSucc\u001b[39m(Zero)))))\n",
       ")\n",
       "\u001b[36mex6\u001b[39m: \u001b[32mLet\u001b[39m = \u001b[33mLet\u001b[39m(\n",
       "  \u001b[32m\"x\"\u001b[39m,\n",
       "  \u001b[33mPlus\u001b[39m(\n",
       "    \u001b[33mConst\u001b[39m(\u001b[33mPositive\u001b[39m(\u001b[33mSucc\u001b[39m(\u001b[33mSucc\u001b[39m(\u001b[33mSucc\u001b[39m(\u001b[33mSucc\u001b[39m(\u001b[33mSucc\u001b[39m(Zero))))))),\n",
       "    \u001b[33mConst\u001b[39m(\u001b[33mNegative\u001b[39m(\u001b[33mSucc\u001b[39m(\u001b[33mSucc\u001b[39m(\u001b[33mSucc\u001b[39m(Zero)))))\n",
       "  ),\n",
       "  \u001b[33mMult\u001b[39m(\u001b[33mIdent\u001b[39m(\u001b[32m\"x\"\u001b[39m), \u001b[33mIdent\u001b[39m(\u001b[32m\"x\"\u001b[39m))\n",
       ")"
      ]
     },
     "execution_count": 5,
     "metadata": {},
     "output_type": "execute_result"
    }
   ],
   "source": [
    "val ex1 = Const(Positive(five))\n",
    "val ex2 = Const(Negative(three))\n",
    "val ex3 = Bin(True)\n",
    "val ex4 = Ident(\"x\")\n",
    "val ex5 = Plus(ex1, ex2)\n",
    "val ex6 = Let(\"x\", ex5, Mult(ex4, ex4))"
   ]
  },
  {
   "cell_type": "markdown",
   "metadata": {},
   "source": [
    "## Part 3 - The Interpreter \n",
    "\n",
    "We now need to define the interpreter for this language. It is a function of the form:\n",
    "\n",
    "$$\n",
    "eval : Expr \\rightarrow Value\n",
    "$$\n",
    "\n",
    "Except, now that we have an execution environment($\\sigma$), we need some way to include $\\sigma$ in this function. This will be as an additional argument:\n",
    "\n",
    "$$\n",
    "eval : \\sigma \\rightarrow Expr \\rightarrow Value\n",
    "$$\n",
    "\n",
    "We will let $\\sigma$ be a `Dictionary` as we defined in last week's homework. To add something to a dicitonary use the `Entry` constructor to add on a new element. This should be very similiar to the way `Cons` works on lists.\n",
    "\n",
    "Below we have given you the skeleton of the function `eval`. Fill in each case for the interpreter so that it can interpret all possible Lettuce expressions. The inference rules we covered in the classroom should be very helpful with this.\n",
    "\n",
    "Hint: It may be helpful to define some helper functions for the inference rules that have similar forms. These are the rules like binary operations for arithmetic, bool, etc. Just like we lumped some of these rules together into a single rule, we can do the same for our interpreter in the form of auxillary functions. The bonus `eval_bin` function from Homework 4 may be a good place for inspiration.\n",
    "\n",
    "Hint: Be ready to write some nested case matches. Most of your cases should have two nestings. One for the Sytnax element and another for evaluating the expressions it may contain. This is not true for all expressions but most will follow this pattern to some extent. Note that `Ident` has a different kind of case match because it needs to interact with the environment(a Dictionary)"
   ]
  },
  {
   "cell_type": "code",
   "execution_count": 6,
   "metadata": {
    "deletable": false,
    "nbgrader": {
     "checksum": "8aa8b325f181b5961778806d8459c2e4",
     "grade": false,
     "grade_id": "interpreter",
     "locked": false,
     "schema_version": 1,
     "solution": true
    }
   },
   "outputs": [
    {
     "data": {
      "text/plain": [
       "defined \u001b[32mfunction\u001b[39m \u001b[36meval_bin\u001b[39m\n",
       "defined \u001b[32mfunction\u001b[39m \u001b[36meval_bin_bool\u001b[39m\n",
       "defined \u001b[32mfunction\u001b[39m \u001b[36meval_bin_AndOr\u001b[39m\n",
       "defined \u001b[32mfunction\u001b[39m \u001b[36meval\u001b[39m"
      ]
     },
     "execution_count": 6,
     "metadata": {},
     "output_type": "execute_result"
    }
   ],
   "source": [
    "def eval_bin(f : (Integer, Integer) => Integer, e1 : Expr, e2 : Expr, env: Dictionary[String, Value]) : Value = (e1, e2) match {\n",
    "\n",
    "    case (x, y) => (eval(env, x), eval(env, y)) match {\n",
    "        case (NumVal(x) , NumVal(y)) => NumVal(f(x, y))\n",
    "    }\n",
    "}\n",
    "def eval_bin_bool(f: (Integer, Integer) => Bool, e1: Expr, e2: Expr, env: Dictionary[String, Value]) : Value = (e1, e2) match {\n",
    "     case (x, y) => (eval(env, x), eval(env, y)) match {\n",
    "        case (NumVal(x) , NumVal(y)) => BinVal(f(x, y))\n",
    "    }\n",
    "}\n",
    "\n",
    "def eval_bin_AndOr(f: (Bool, Bool) => Bool, e1: Expr, e2: Expr, env: Dictionary[String, Value]) : Value = (e1, e2) match {\n",
    "     case (x, y) => (eval(env, x), eval(env, y)) match {\n",
    "        case (BinVal(x) , BinVal(y)) => BinVal(f(x, y))\n",
    "    }\n",
    "}\n",
    "\n",
    "def eval(env : Dictionary[String, Value], expr : Expr) : Value = expr match {\n",
    "    case Const(x) => NumVal(x)\n",
    "    case Bin(x) => BinVal(x)\n",
    "    case Ident(x) => lookup(string_eq, env, x) match {\n",
    "        case Just(x) => x\n",
    "        case Nothing => Error\n",
    "    }\n",
    "    case Plus(x, y) => eval_bin(plus, x, y, env) \n",
    "    case Minus(x, y) => eval_bin(minus, x, y, env)\n",
    "    case Mult(x, y) => eval_bin(mult, x, y, env)\n",
    "    case Pow(x, y) => (eval(env, x), eval(env, y)) match {\n",
    "        case(NumVal(x), NumVal(y)) => NumVal(pow(x, abs(y)))\n",
    "    }\n",
    "    case Neg(x) => eval(env, x) match {\n",
    "        case(NumVal(x)) => NumVal(negate(x))\n",
    "    }\n",
    "    case Eq(x, y) => eval_bin_bool(int_eq, x, y, env)\n",
    "    case And(x, y) => eval_bin_AndOr(and, x, y, env)\n",
    "    case Or(x, y) => eval_bin_AndOr(or, x, y, env)\n",
    "    \n",
    "    case IfThenElse(p, e1, e2) => eval(env, p) match {\n",
    "            case BinVal(True) => eval(env, e1)\n",
    "            case BinVal(False) => eval(env, e2)\n",
    "        } \n",
    "        \n",
    "    case Let(s, e1, e2) => eval(Entry(s, eval(env, e1), EmptyDict), e2) \n",
    "}\n",
    "// val ex55 = Minus(ex5, Const(Positive(one)))\n",
    "// val ex555 = Neg(Const(Positive(one)))\n",
    "// assert(eval(EmptyDict, ex1) equals NumVal(Positive(five)))\n",
    "// assert(eval(EmptyDict, ex3) equals BinVal(True))\n",
    "// assert(eval(EmptyDict, ex4) equals Error)\n",
    "// assert(eval(EmptyDict, ex5) equals NumVal(Positive(two)))\n",
    "// assert(eval(EmptyDict, ex55) equals NumVal(Positive(one)))\n",
    "// assert(eval(EmptyDict, ex55) equals NumVal(Positive(one)))\n",
    "// assert(eval(EmptyDict, ex555) equals NumVal(Negative(one)))"
   ]
  },
  {
   "cell_type": "markdown",
   "metadata": {},
   "source": [
    "If this was defined correctly then the definitions above should evaluate:"
   ]
  },
  {
   "cell_type": "code",
   "execution_count": 7,
   "metadata": {
    "deletable": false,
    "editable": false,
    "nbgrader": {
     "checksum": "1aaf9c7ef5968fde1d272ab5a2b48ffd",
     "grade": true,
     "grade_id": "interpreter-tests",
     "locked": true,
     "points": 20,
     "schema_version": 1,
     "solution": false
    }
   },
   "outputs": [],
   "source": [
    "//val ex1 = Const(Positive(five))\n",
    "//val ex2 = Const(Negative(three))\n",
    "//val ex3 = Bin(True)\n",
    "//val ex4 = Ident(\"x\")\n",
    "//val ex5 = Plus(ex1, ex2)\n",
    "//val ex6 = Let(\"x\", ex5, Mult(ex4, ex4))\n",
    "\n",
    "\n",
    "assert(eval(EmptyDict, ex3) equals BinVal(True))\n",
    "assert(eval(EmptyDict, ex4) equals Error)\n",
    "assert(eval(EmptyDict, ex5) equals NumVal(Positive(two)))\n",
    "assert(eval(EmptyDict, ex6) equals NumVal(Positive(four)))"
   ]
  },
  {
   "cell_type": "code",
   "execution_count": null,
   "metadata": {},
   "outputs": [],
   "source": []
  }
 ],
 "metadata": {
  "kernelspec": {
   "display_name": "Scala",
   "language": "scala",
   "name": "scala"
  },
  "language_info": {
   "codemirror_mode": "text/x-scala",
   "file_extension": ".scala",
   "mimetype": "text/x-scala",
   "name": "scala",
   "nbconvert_exporter": "script",
   "version": "2.12.8"
  }
 },
 "nbformat": 4,
 "nbformat_minor": 2
}
