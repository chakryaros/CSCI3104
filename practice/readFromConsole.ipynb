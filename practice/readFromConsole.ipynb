{
 "cells": [
  {
   "cell_type": "code",
   "execution_count": 0,
   "metadata": {},
   "outputs": [
    {
     "name": "stderr",
     "output_type": "stream",
     "text": [
      "cmd0.sc:1: object StdIn is not a member of package io\n",
      "import io.StdIn._\n",
      "          ^Compilation Failed"
     ]
    },
    {
     "ename": "",
     "evalue": "",
     "output_type": "error",
     "traceback": [
      "Compilation Failed"
     ]
    }
   ],
   "source": [
    "import io.StdIn._\n",
    "object Grades extends App {\n",
    "    var done = false\n",
    "    while(!done)\n",
    "    {\n",
    "        var name = readLine(\"Enter the student name:\")\n",
    "        println(\"Enter the student score: \")\n",
    "        var score = readDouble()\n",
    "        println(\"You received an \" + (if(score > 90) \"A\" else\n",
    "               if(score > 80) \"B\" else\n",
    "                if(score > 70) \"C\" else\n",
    "                if(score > 60) \"D\" else\n",
    "                \"F\"))\n",
    "        println(\"Enter true if done, false to continue: \")\n",
    "        done = readBoolean()\n",
    "    }\n",
    "}"
   ]
  },
  {
   "cell_type": "code",
   "execution_count": null,
   "metadata": {},
   "outputs": [],
   "source": []
  }
 ],
 "metadata": {
  "kernelspec": {
   "display_name": "Scala",
   "language": "scala",
   "name": "scala"
  },
  "language_info": {
   "codemirror_mode": "text/x-scala",
   "file_extension": ".scala",
   "mimetype": "text/x-scala",
   "name": "scala",
   "nbconvert_exporter": "script",
   "version": "2.12.8"
  }
 },
 "nbformat": 4,
 "nbformat_minor": 2
}
