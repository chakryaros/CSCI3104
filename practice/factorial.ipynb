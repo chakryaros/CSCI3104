{
 "cells": [
  {
   "cell_type": "code",
   "execution_count": 1,
   "metadata": {},
   "outputs": [
    {
     "data": {
      "text/plain": [
       "defined \u001b[32mfunction\u001b[39m \u001b[36mfactorial\u001b[39m\n",
       "\u001b[36mres0_1\u001b[39m: \u001b[32mInt\u001b[39m = \u001b[32m6\u001b[39m"
      ]
     },
     "execution_count": 1,
     "metadata": {},
     "output_type": "execute_result"
    }
   ],
   "source": [
    "def factorial(n: Int): Int = n match {\n",
    "    case 0 => 1\n",
    "    case _ => factorial(n-1)*n\n",
    "}\n",
    "\n",
    "factorial(3)"
   ]
  },
  {
   "cell_type": "code",
   "execution_count": 9,
   "metadata": {},
   "outputs": [
    {
     "data": {
      "text/plain": [
       "defined \u001b[32mfunction\u001b[39m \u001b[36mfactorial_precondition\u001b[39m\n",
       "\u001b[36mres8_1\u001b[39m: \u001b[32mInt\u001b[39m = \u001b[32m720\u001b[39m"
      ]
     },
     "execution_count": 9,
     "metadata": {},
     "output_type": "execute_result"
    }
   ],
   "source": [
    "def factorial_precondition(n: Int) : Int = {\n",
    "    require (n >=0)\n",
    "    n match {\n",
    "        case 0 => 1\n",
    "        case _ => factorial_precondition(n-1)*n\n",
    "    }\n",
    "}\n",
    "// factorial_precondition(-6)\n",
    "factorial_precondition(6)"
   ]
  },
  {
   "cell_type": "code",
   "execution_count": 11,
   "metadata": {},
   "outputs": [
    {
     "data": {
      "text/plain": [
       "defined \u001b[32mfunction\u001b[39m \u001b[36mfactorial_acc\u001b[39m\n",
       "\u001b[36mres10_1\u001b[39m: \u001b[32mInt\u001b[39m = \u001b[32m6\u001b[39m"
      ]
     },
     "execution_count": 11,
     "metadata": {},
     "output_type": "execute_result"
    }
   ],
   "source": [
    "//Tail recursion with an Accumulator\n",
    "def factorial_acc(n:Int) : Int = {\n",
    "    require(n>=0)\n",
    "    def factorialIter(n: Int, acc: Int): Int = n match {\n",
    "        case 0 => acc\n",
    "        case _ => factorialIter(n-1, acc*n)\n",
    "    }\n",
    "    factorialIter(n,1)\n",
    "}\n",
    "\n",
    "/*\n",
    "factorial(3)\n",
    "    -->  factorialIter(3, 1)\n",
    "    -->* factorialItern(2, 1*3)\n",
    "    -->  factorialIter(2, 3)\n",
    "    -->* factorialItern(1, 3*2)\n",
    "    -->  factorialItern(1, 6)\n",
    "    -->* factorialItern(0, 6*1)\n",
    "    -->  factorialItern(0, 6)\n",
    "    -->* 6\n",
    "\n",
    "*/\n",
    "factorial_acc(3)"
   ]
  },
  {
   "cell_type": "code",
   "execution_count": null,
   "metadata": {},
   "outputs": [],
   "source": [
    "//factorial in Java\n",
    "int factorial(int n) {\n",
    "    int acc =1;\n",
    "    wile(n>0){\n",
    "        acc = acc * n;\n",
    "        n = n-1;\n",
    "    }\n",
    "    return acc;\n",
    "}"
   ]
  }
 ],
 "metadata": {
  "kernelspec": {
   "display_name": "Scala",
   "language": "scala",
   "name": "scala"
  },
  "language_info": {
   "codemirror_mode": "text/x-scala",
   "file_extension": ".scala",
   "mimetype": "text/x-scala",
   "name": "scala",
   "nbconvert_exporter": "script",
   "version": "2.12.8"
  }
 },
 "nbformat": 4,
 "nbformat_minor": 2
}
